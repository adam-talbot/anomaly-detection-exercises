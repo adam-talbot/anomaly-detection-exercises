{
 "cells": [
  {
   "cell_type": "markdown",
   "id": "1f3d6e19-9379-4e09-8be4-195fa6f42a73",
   "metadata": {},
   "source": [
    "# Continuous Probabilistic Methods"
   ]
  },
  {
   "cell_type": "markdown",
   "id": "c465f036-a454-4995-8139-4e073837bb7d",
   "metadata": {},
   "source": [
    "## 1."
   ]
  },
  {
   "cell_type": "markdown",
   "id": "e2d7c94c-c795-4e12-a2d0-1a2c4ced1646",
   "metadata": {},
   "source": [
    "Define a function named get_lower_and_upper_bounds that has two arguments. The first argument is a pandas Series. The second argument is the multiplier, which should have a default argument of 1.5."
   ]
  },
  {
   "cell_type": "markdown",
   "id": "2b1447ed-592d-4d06-9ae1-895539c343e2",
   "metadata": {},
   "source": [
    "## 2."
   ]
  },
  {
   "cell_type": "markdown",
   "id": "e724a8b3-956d-46b2-b222-23f31c6adcdc",
   "metadata": {},
   "source": [
    "Using lemonade.csv dataset and focusing on continuous variables:"
   ]
  },
  {
   "cell_type": "markdown",
   "id": "1ea2ef9a-7474-485e-8940-4d2a75a9ccad",
   "metadata": {},
   "source": [
    "- Use the IQR Range Rule and the upper and lower bounds to identify the lower outliers of each column of lemonade.csv, using the multiplier of 1.5. "
   ]
  },
  {
   "cell_type": "markdown",
   "id": "b43247fa-a019-45f7-add2-079eecb5eb04",
   "metadata": {},
   "source": [
    "    - Do these lower outliers make sense? "
   ]
  },
  {
   "cell_type": "markdown",
   "id": "23e9060e-bb59-45a1-b5e3-f0fbb7609e8e",
   "metadata": {},
   "source": [
    "    - Which outliers should be kept?"
   ]
  },
  {
   "cell_type": "markdown",
   "id": "8337ec5e-d0ec-4617-9081-82dc37538a82",
   "metadata": {},
   "source": [
    "- Use the IQR Range Rule and the upper and lower bounds to identify the upper outliers of each column of lemonade.csv, using the multiplier of 1.5. "
   ]
  },
  {
   "cell_type": "markdown",
   "id": "1aaea7dc-8255-49be-9ff0-9a9ce0d3b81f",
   "metadata": {},
   "source": [
    "    - Do these lower outliers make sense? "
   ]
  },
  {
   "cell_type": "markdown",
   "id": "08470036-cd0b-43fb-96c1-39122702ed1a",
   "metadata": {},
   "source": [
    "    - Which outliers should be kept?"
   ]
  },
  {
   "cell_type": "markdown",
   "id": "41fabb56-6740-4b37-a8a3-9e52e8082971",
   "metadata": {},
   "source": [
    "- Using the multiplier of 3, IQR Range Rule, and the lower and upper bounds, identify the outliers below the lower bound in each colum of lemonade.csv. "
   ]
  },
  {
   "cell_type": "markdown",
   "id": "8d9d1c58-e590-45c9-88b2-f83e71305ca9",
   "metadata": {},
   "source": [
    "    - Do these lower outliers make sense? "
   ]
  },
  {
   "cell_type": "markdown",
   "id": "08d762ad-6631-4128-9f16-96ed0042623a",
   "metadata": {},
   "source": [
    "    - Which outliers should be kept?"
   ]
  },
  {
   "cell_type": "markdown",
   "id": "74e30ed8-fbad-4a44-941d-4a1918917e26",
   "metadata": {},
   "source": [
    "- Using the multiplier of 3, IQR Range Rule, and the lower and upper bounds, identify the outliers above the upper_bound in each colum of lemonade.csv. "
   ]
  },
  {
   "cell_type": "markdown",
   "id": "cc88bfdb-e6f7-4814-a645-d91ec3a753b7",
   "metadata": {},
   "source": [
    "    - Do these upper outliers make sense? "
   ]
  },
  {
   "cell_type": "markdown",
   "id": "0190806e-56ed-4972-b3f3-64a64a6276c9",
   "metadata": {},
   "source": [
    "    - Which outliers should be kept?"
   ]
  },
  {
   "cell_type": "markdown",
   "id": "c88823dd-e657-4bdb-9722-549def62cce6",
   "metadata": {},
   "source": [
    "## 3."
   ]
  },
  {
   "cell_type": "markdown",
   "id": "577caa1f-8f20-4265-8c9a-2baeaa56953b",
   "metadata": {},
   "source": [
    "Identify if any columns in lemonade.csv are normally distributed. For normally distributed columns:\n",
    "\n",
    "- Use a 2 sigma decision rule to isolate the outliers."
   ]
  },
  {
   "cell_type": "markdown",
   "id": "75ce79ba-6935-4192-8c5d-8b127f2ba4f5",
   "metadata": {},
   "source": [
    "    - Do these make sense?"
   ]
  },
  {
   "cell_type": "markdown",
   "id": "562d156f-fed4-445a-8d04-e7ffbcd23430",
   "metadata": {},
   "source": [
    "    - Should certain outliers be kept or removed?"
   ]
  },
  {
   "cell_type": "markdown",
   "id": "f9ac2646-aab7-4c62-9299-75301a349830",
   "metadata": {},
   "source": [
    "## 4."
   ]
  },
  {
   "cell_type": "markdown",
   "id": "9726b591-3806-4d2c-93bb-8970a7ba96e9",
   "metadata": {},
   "source": [
    "Now use a 3 sigma decision rule to isolate the outliers in the normally distributed columns from lemonade.csv"
   ]
  },
  {
   "cell_type": "code",
   "execution_count": null,
   "id": "c781d3c8-0ede-466c-9264-b63c55b87b34",
   "metadata": {},
   "outputs": [],
   "source": []
  }
 ],
 "metadata": {
  "kernelspec": {
   "display_name": "Python 3",
   "language": "python",
   "name": "python3"
  },
  "language_info": {
   "codemirror_mode": {
    "name": "ipython",
    "version": 3
   },
   "file_extension": ".py",
   "mimetype": "text/x-python",
   "name": "python",
   "nbconvert_exporter": "python",
   "pygments_lexer": "ipython3",
   "version": "3.8.8"
  }
 },
 "nbformat": 4,
 "nbformat_minor": 5
}
